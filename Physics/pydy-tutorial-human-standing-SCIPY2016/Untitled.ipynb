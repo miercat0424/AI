{
 "cells": [
  {
   "cell_type": "code",
   "execution_count": 1,
   "id": "a835cc82",
   "metadata": {},
   "outputs": [
    {
     "name": "stdout",
     "output_type": "stream",
     "text": [
      "\r\n",
      "     active environment : Tracker\r\n",
      "    active env location : /Users/cmu/opt/anaconda3/envs/Tracker\r\n",
      "            shell level : 2\r\n",
      "       user config file : /Users/cmu/.condarc\r\n",
      " populated config files : /Users/cmu/.condarc\r\n",
      "          conda version : 4.10.3\r\n",
      "    conda-build version : 3.21.4\r\n",
      "         python version : 3.8.8.final.0\r\n",
      "       virtual packages : __osx=10.16=0\r\n",
      "                          __unix=0=0\r\n",
      "                          __archspec=1=x86_64\r\n",
      "       base environment : /Users/cmu/opt/anaconda3  (writable)\r\n",
      "      conda av data dir : /Users/cmu/opt/anaconda3/etc/conda\r\n",
      "  conda av metadata url : None\r\n",
      "           channel URLs : https://repo.anaconda.com/pkgs/main/osx-64\r\n",
      "                          https://repo.anaconda.com/pkgs/main/noarch\r\n",
      "                          https://repo.anaconda.com/pkgs/r/osx-64\r\n",
      "                          https://repo.anaconda.com/pkgs/r/noarch\r\n",
      "                          https://conda.anaconda.org/conda-forge/osx-64\r\n",
      "                          https://conda.anaconda.org/conda-forge/noarch\r\n",
      "          package cache : /Users/cmu/opt/anaconda3/pkgs\r\n",
      "                          /Users/cmu/.conda/pkgs\r\n",
      "       envs directories : /Users/cmu/opt/anaconda3/envs\r\n",
      "                          /Users/cmu/.conda/envs\r\n",
      "               platform : osx-64\r\n",
      "             user-agent : conda/4.10.3 requests/2.25.1 CPython/3.8.8 Darwin/20.5.0 OSX/10.16\r\n",
      "                UID:GID : 501:20\r\n",
      "             netrc file : None\r\n",
      "           offline mode : False\r\n",
      "\r\n"
     ]
    }
   ],
   "source": [
    "!conda info"
   ]
  },
  {
   "cell_type": "code",
   "execution_count": 4,
   "id": "7d031179",
   "metadata": {},
   "outputs": [],
   "source": [
    "from sympy.physics.vector import ReferenceFrame , cross , dot\n",
    "from sympy.abc import * \n",
    "\n",
    "A = ReferenceFrame(\"A\")\n",
    "\n",
    "a = c * A.x + d * A.y + e * A.z \n",
    "from sympy import Function\n",
    "\n",
    "theta = Function(\"theta\")(t)"
   ]
  },
  {
   "cell_type": "code",
   "execution_count": 5,
   "id": "a8f31d4a",
   "metadata": {},
   "outputs": [
    {
     "data": {
      "text/latex": [
       "$\\displaystyle \\theta{\\left(t \\right)}$"
      ],
      "text/plain": [
       "theta(t)"
      ]
     },
     "execution_count": 5,
     "metadata": {},
     "output_type": "execute_result"
    }
   ],
   "source": [
    "theta"
   ]
  },
  {
   "cell_type": "code",
   "execution_count": 6,
   "id": "bde372eb",
   "metadata": {},
   "outputs": [
    {
     "name": "stdout",
     "output_type": "stream",
     "text": [
      "\n",
      "How it looks : c*N.x + d*N.y + e*N.z\n",
      "coefficients : Matrix([[c], [d], [e]])\n",
      "Magnitude : sqrt(c**2 + d**2 + e**2)\n",
      "\n",
      "\n",
      "How it looks : f*M.x + g*M.y + h*M.z\n",
      "coefficients : Matrix([[f], [g], [h]])\n",
      "Magnitude : sqrt(f**2 + g**2 + h**2)\n",
      "\n",
      "Adding each Vectors :\n",
      "\tc*N.x + d*N.y + e*N.z + f*M.x + g*M.y + h*M.z\n",
      "\t2*c*N.x + 2*d*N.y + 2*e*N.z\n",
      "\n",
      "Scaling each Vectors :\n",
      "\t2*c*N.x + 2*d*N.y + 2*e*N.z\n",
      "\t20*f*M.x + 20*g*M.y + 20*h*M.z\n",
      "\n"
     ]
    }
   ],
   "source": [
    "from sympy import init_printing\n",
    "from sympy.physics.vector import ReferenceFrame\n",
    "from sympy.abc import c, d, e, f, g, h \n",
    "\n",
    "init_printing(use_latex=\"mathjax\", pretty_print=False)\n",
    "\n",
    "N = ReferenceFrame(\"N\")                 # --> Units Vectors \n",
    "M = ReferenceFrame(\"M\")                 # --> Units Vectors \n",
    "\n",
    "a = c * N.x + d * N.y + e * N.z         # --> set 3 types of Unit Vectors (Nx,Ny,Nz)\n",
    "b = f * M.x + g * M.y + h * M.z         # --> set 3 types of Unit Vectors (Nx,Ny,Nz)\n",
    "\n",
    "print(f\"\\nHow it looks : {a}\\ncoefficients : {a.to_matrix(N)}\\nMagnitude : {a.magnitude()}\\n\")\n",
    "print(f\"\\nHow it looks : {b}\\ncoefficients : {b.to_matrix(M)}\\nMagnitude : {b.magnitude()}\\n\")\n",
    "\n",
    "# Add Vetors // +\n",
    "print(f\"Adding each Vectors :\\n\\t{a+b}\\n\\t{a+a}\\n\" )\n",
    "\n",
    "# Scaling Vetors with constant // *\n",
    "print(f\"Scaling each Vectors :\\n\\t{2*a}\\n\\t{20*b}\\n\" )\n"
   ]
  },
  {
   "cell_type": "code",
   "execution_count": 7,
   "id": "da19c95d",
   "metadata": {},
   "outputs": [
    {
     "data": {
      "text/latex": [
       "$\\displaystyle c\\mathbf{\\hat{n}_x} + d\\mathbf{\\hat{n}_y} + e\\mathbf{\\hat{n}_z}$"
      ],
      "text/plain": [
       "c*N.x + d*N.y + e*N.z"
      ]
     },
     "execution_count": 7,
     "metadata": {},
     "output_type": "execute_result"
    }
   ],
   "source": [
    "a"
   ]
  },
  {
   "cell_type": "code",
   "execution_count": 8,
   "id": "02056026",
   "metadata": {},
   "outputs": [
    {
     "name": "stdout",
     "output_type": "stream",
     "text": [
      "c*N.x + d*N.y + e*N.z\n"
     ]
    }
   ],
   "source": [
    "print(a)"
   ]
  },
  {
   "cell_type": "code",
   "execution_count": 9,
   "id": "b17d5b49",
   "metadata": {},
   "outputs": [
    {
     "data": {
      "text/latex": [
       "$\\displaystyle \\left[\\begin{matrix}c\\\\d\\\\e\\end{matrix}\\right]$"
      ],
      "text/plain": [
       "Matrix([\n",
       "[c],\n",
       "[d],\n",
       "[e]])"
      ]
     },
     "execution_count": 9,
     "metadata": {},
     "output_type": "execute_result"
    }
   ],
   "source": [
    "a.to_matrix(N)"
   ]
  },
  {
   "cell_type": "code",
   "execution_count": 10,
   "id": "4a23b2ae",
   "metadata": {},
   "outputs": [
    {
     "data": {
      "text/latex": [
       "$\\displaystyle c\\mathbf{\\hat{n}_x} + d\\mathbf{\\hat{n}_y} + e\\mathbf{\\hat{n}_z} + f\\mathbf{\\hat{m}_x} + g\\mathbf{\\hat{m}_y} + h\\mathbf{\\hat{m}_z}$"
      ],
      "text/plain": [
       "c*N.x + d*N.y + e*N.z + f*M.x + g*M.y + h*M.z"
      ]
     },
     "execution_count": 10,
     "metadata": {},
     "output_type": "execute_result"
    }
   ],
   "source": [
    "a+b"
   ]
  },
  {
   "cell_type": "code",
   "execution_count": 14,
   "id": "5c96671f",
   "metadata": {},
   "outputs": [
    {
     "data": {
      "text/latex": [
       "$\\displaystyle \\mathbf{\\hat{n}_z}$"
      ],
      "text/plain": [
       "N.z"
      ]
     },
     "execution_count": 14,
     "metadata": {},
     "output_type": "execute_result"
    }
   ],
   "source": []
  },
  {
   "cell_type": "code",
   "execution_count": null,
   "id": "8ac65409",
   "metadata": {},
   "outputs": [],
   "source": []
  }
 ],
 "metadata": {
  "kernelspec": {
   "display_name": "Python 3",
   "language": "python",
   "name": "python3"
  },
  "language_info": {
   "codemirror_mode": {
    "name": "ipython",
    "version": 3
   },
   "file_extension": ".py",
   "mimetype": "text/x-python",
   "name": "python",
   "nbconvert_exporter": "python",
   "pygments_lexer": "ipython3",
   "version": "3.8.5"
  }
 },
 "nbformat": 4,
 "nbformat_minor": 5
}
